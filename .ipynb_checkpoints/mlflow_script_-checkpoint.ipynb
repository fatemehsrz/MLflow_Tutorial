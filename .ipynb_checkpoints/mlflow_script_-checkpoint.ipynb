{
 "cells": [
  {
   "cell_type": "code",
   "execution_count": 0,
   "metadata": {
    "application/vnd.databricks.v1+cell": {
     "cellMetadata": {
      "byteLimit": 2048000,
      "rowLimit": 10000
     },
     "inputWidgets": {},
     "nuid": "b0be08da-3e6f-41ff-81a1-a2b0d56f0754",
     "showTitle": false,
     "title": ""
    }
   },
   "outputs": [
    {
     "name": "stdout",
     "output_type": "stream",
     "text": [
      "Requirement already satisfied: xgboost in /local_disk0/.ephemeral_nfs/envs/pythonEnv-b571cf31-5761-47ac-9333-bb0d962e650d/lib/python3.9/site-packages (1.7.4)\r\n",
      "Requirement already satisfied: numpy in /databricks/python3/lib/python3.9/site-packages (from xgboost) (1.20.3)\r\n",
      "Requirement already satisfied: scipy in /databricks/python3/lib/python3.9/site-packages (from xgboost) (1.7.1)\r\n",
      "\u001b[33mWARNING: You are using pip version 21.2.4; however, version 23.1.2 is available.\r\n",
      "You should consider upgrading via the '/local_disk0/.ephemeral_nfs/envs/pythonEnv-b571cf31-5761-47ac-9333-bb0d962e650d/bin/python -m pip install --upgrade pip' command.\u001b[0m\r\n"
     ]
    }
   ],
   "source": [
    "!pip install xgboost #==1.7.4"
   ]
  },
  {
   "cell_type": "code",
   "execution_count": 0,
   "metadata": {
    "application/vnd.databricks.v1+cell": {
     "cellMetadata": {
      "byteLimit": 2048000,
      "rowLimit": 10000
     },
     "inputWidgets": {},
     "nuid": "1161719e-6d3a-470a-a72c-65c16733931f",
     "showTitle": false,
     "title": ""
    }
   },
   "outputs": [],
   "source": [
    "import numpy as np\n",
    "from xgboost import XGBRegressor\n",
    "import mlflow\n",
    "from sklearn.model_selection import train_test_split\n",
    "from sklearn.metrics import mean_absolute_error, mean_absolute_percentage_error, mean_squared_error\n",
    "import math\n",
    "from sklearn.metrics import r2_score\n",
    "#from hyperopt import fmin, tpe, hp, STATUS_OK, Trials\n",
    "#from hyperopt.pyll import scope\n",
    "\n",
    "def RRMSE(true, pred):\n",
    "\n",
    "    num = np.sum(np.square(true - pred))\n",
    "    den = np.sum(np.square(pred))\n",
    "    \n",
    "    squared_error = num/den\n",
    "    rrmse_loss = np.sqrt(squared_error)\n",
    "    \n",
    "    return rrmse_loss\n",
    "\n",
    "\n",
    "def model_register(data_collector=None, group=None, params=None):\n",
    "\n",
    "     with mlflow.start_run(run_name=group):\n",
    "      \n",
    "        #mlflow.log_params(params)\n",
    "      \n",
    "        mlflow.autolog()\n",
    "\n",
    "        xg_model = XGBRegressor(**params,\n",
    "                                 min_child_weight=0,\n",
    "                                 gamma=0.7,\n",
    "                                 subsample=0.7,\n",
    "                                 colsample_bytree=0.7,\n",
    "                                 objective='reg:squarederror', #'reg:linear',\n",
    "                                 nthread=-1,\n",
    "                                 scale_pos_weight=1,\n",
    "                                 seed=25,\n",
    "                                 reg_alpha=0.00006,\n",
    "                                 random_state=42)\n",
    "        \n",
    "        \n",
    "        X_train ,y_train= data_collector['X_train'], data_collector['y_train']\n",
    "        \n",
    "        xg_model.fit(X_train , y_train)\n",
    "\n",
    "        print('trining finished ...')\n",
    "\n",
    "\n",
    "        mlflow.xgboost.log_model(xg_model, \n",
    "                         artifact_path=\"XGBoost_models/%s\"%group, \n",
    "                          registered_model_name=\"%s\"%group)\n",
    "        \n",
    "        print('model %s has been registered '%group, '\\n')\n",
    "\n"
   ]
  },
  {
   "cell_type": "code",
   "execution_count": 0,
   "metadata": {
    "application/vnd.databricks.v1+cell": {
     "cellMetadata": {
      "byteLimit": 2048000,
      "rowLimit": 10000
     },
     "inputWidgets": {},
     "nuid": "8e060124-f4ed-47f7-9101-748b310cf8dc",
     "showTitle": false,
     "title": ""
    }
   },
   "outputs": [],
   "source": [
    "      #y_pred= xg_model.predict(X_test)\n",
    "        #autolog_run = mlflow.last_active_run()\n",
    "        #mse=  mean_squared_error( y_test, y_pred)\n",
    "        #rmse= math.sqrt(mse)\n",
    "        #rrmse= RRMSE(y_test, y_pred)\n",
    "        #mae= mean_absolute_error( y_test, y_pred)\n",
    "        #r2= r2_score( y_test, y_pred)\n",
    "        #mape= mean_absolute_percentage_error(y_test, y_pred)\n",
    "      \n",
    "        #mlflow.log_metric('rmse', rmse)\n",
    "        #mlflow.log_metric('rrmse', rrmse)\n",
    "        #mlflow.log_metric('mape',mape)\n",
    "  "
   ]
  }
 ],
 "metadata": {
  "application/vnd.databricks.v1+notebook": {
   "dashboards": [],
   "language": "python",
   "notebookMetadata": {
    "pythonIndentUnit": 2
   },
   "notebookName": "mlflow_script_",
   "notebookOrigID": 3193959443918652,
   "widgets": {}
  },
  "kernelspec": {
   "display_name": "Python 3",
   "language": "python",
   "name": "python3"
  },
  "language_info": {
   "codemirror_mode": {
    "name": "ipython",
    "version": 3
   },
   "file_extension": ".py",
   "mimetype": "text/x-python",
   "name": "python",
   "nbconvert_exporter": "python",
   "pygments_lexer": "ipython3",
   "version": "3.8.5"
  }
 },
 "nbformat": 4,
 "nbformat_minor": 1
}
